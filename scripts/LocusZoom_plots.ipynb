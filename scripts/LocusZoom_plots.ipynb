{
 "cells": [
  {
   "cell_type": "code",
   "execution_count": null,
   "metadata": {
    "inputHidden": false,
    "outputHidden": false
   },
   "outputs": [],
   "source": [
    "# plot gene based\n",
    "basedir=/share/storage/REDS-III/GWA_G_by_Sex/\n",
    "    \n",
    "for gene in SLC4A1;do\n",
    "    flankR=200Kb\n",
    "    for loc in rbc_male_osmotic/rbc.males.1000G_p3.p_SNP rbc_female_osmotic/rbc.females.1000G_p3.p_SNP;do\n",
    "        prefix=$(echo $loc | cut -d'/' -f 2)\n",
    "        /share/storage/REDS-III/scripts/qsub_job.sh \\\n",
    "            --job_name locuszoom \\\n",
    "            --script_prefix $basedir/LocusZoom/${prefix}_${gene}.locuszoom \\\n",
    "            --mem 20 \\\n",
    "            --cpu 1 \\\n",
    "            --priority 0 \\\n",
    "            --program /share/storage/REDS-III/common/locuszoom/bin/locuszoom \\\n",
    "            --metal ${basedir}/${loc}.metal \\\n",
    "            --refgene $gene \\\n",
    "            --flank ${flankR} \\\n",
    "            --build hg19 \\\n",
    "            --pop EUR \\\n",
    "            --plotonly \\\n",
    "            --source 1000G_Nov2014 \\\n",
    "            --prefix ${basedir}/LocusZoom/${prefix}_${gene}_${flankR}_noSigLine \\\n",
    "            theme=publication \\\n",
    "            refsnpTextColor=transparent \\\n",
    "            rfrows=1 \\\n",
    "            geneFontSize=1.5 \\\n",
    "            showGenes=FALSE \\\n",
    "            showRecomb=FALSE \\\n",
    "            legend='none' \\\n",
    "            width=6 \\\n",
    "            height=4 \\\n",
    "            axisTextSize=1.5\n",
    "    done\n",
    "done\n",
    "\n",
    "\n",
    "\n",
    "\n",
    "  "
   ]
  }
 ],
 "metadata": {
  "kernel_info": {
   "name": "node_nteract"
  },
  "kernelspec": {
   "display_name": "Python 3",
   "language": "python",
   "name": "python3"
  },
  "language_info": {
   "codemirror_mode": {
    "name": "ipython",
    "version": 3
   },
   "file_extension": ".py",
   "mimetype": "text/x-python",
   "name": "python",
   "nbconvert_exporter": "python",
   "pygments_lexer": "ipython3",
   "version": "3.8.8"
  },
  "nteract": {
   "version": "0.12.3"
  },
  "toc": {
   "base_numbering": 1,
   "nav_menu": {},
   "number_sections": true,
   "sideBar": true,
   "skip_h1_title": false,
   "title_cell": "Table of Contents",
   "title_sidebar": "Contents",
   "toc_cell": false,
   "toc_position": {},
   "toc_section_display": true,
   "toc_window_display": true
  }
 },
 "nbformat": 4,
 "nbformat_minor": 4
}
