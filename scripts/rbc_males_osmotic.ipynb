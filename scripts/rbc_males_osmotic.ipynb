{
 "cells": [
  {
   "cell_type": "markdown",
   "metadata": {},
   "source": [
    "# Generate male PCs"
   ]
  },
  {
   "cell_type": "code",
   "execution_count": null,
   "metadata": {},
   "outputs": [],
   "source": [
    "plink --bfile rbc --keep sample_males_osmotic.txt --make-bed --out rbc.males\n",
    "plink --bfile rbc --keep sample_females_osmotic.txt --make-bed --out rbc.females\n"
   ]
  },
  {
   "cell_type": "code",
   "execution_count": null,
   "metadata": {},
   "outputs": [],
   "source": [
    "R\n",
    "\n",
    "require(gdsfmt)\n",
    "require(SNPRelate)\n",
    "\n",
    "##### Following http://corearray.sourceforge.net/tutorials/SNPRelate/#format-conversion-from-plink-binary-files #####\n",
    "\n",
    "  # Format conversion from PLINK binary files #####\n",
    "  bed.fn <- \"rbc.males.bed\"\n",
    "  fam.fn <- \"rbc.males.fam\"\n",
    "  bim.fn <- \"rbc.males.bim\"\n",
    "  snpgdsBED2GDS(bed.fn, fam.fn, bim.fn, \"rbc.males.gds\")\n",
    "  \n",
    "  # Data Analysis #####\n",
    "  genofile <- snpgdsOpen(\"rbc.males.gds\")\n",
    "  \n",
    "  # LD-based SNP pruning #####\n",
    "  set.seed(1000)\n",
    "  snpset <- snpgdsLDpruning(genofile, ld.threshold=0.2)\n",
    "  \n",
    "  snpset.id <- unlist(snpset)\n",
    "  \n",
    "  # Principal Component Analysis (PCA) #####\n",
    "  pca <- snpgdsPCA(genofile, snp.id=snpset.id, num.thread=8)\n",
    "  \n",
    "  # save.image(\"WorkingProgress.RData\")\n",
    "  \n",
    "  # variance proportion (%)\n",
    "  pc.percent <- pca$varprop*100\n",
    "  head(round(pc.percent, 2), n=10)\n",
    "  \n",
    "  # make a data.frame\n",
    "  tab <- data.frame(sample.id = pca$sample.id,\n",
    "                    EV1 = pca$eigenvect[,1],    # the first eigenvector\n",
    "                    EV2 = pca$eigenvect[,2],    # the second eigenvector\n",
    "                    EV3 = pca$eigenvect[,3],    # the first eigenvector\n",
    "                    EV4 = pca$eigenvect[,4],    # the second eigenvector\n",
    "                    EV5 = pca$eigenvect[,5],    # the first eigenvector\n",
    "                    EV6 = pca$eigenvect[,6],    # the second eigenvector\n",
    "                    EV7 = pca$eigenvect[,7],    # the first eigenvector\n",
    "                    EV8 = pca$eigenvect[,8],    # the second eigenvector\n",
    "                    EV9 = pca$eigenvect[,9],    # the first eigenvector\n",
    "                    EV10 = pca$eigenvect[,10],    # the second eigenvector\n",
    "                    stringsAsFactors = FALSE)\n",
    "  head(tab)\n",
    "  \n",
    "  # Draw\n",
    "#   plot(tab$EV2, tab$EV1, xlab=\"eigenvector 2\", ylab=\"eigenvector 1\")\n",
    "#   plot(tab$EV4, tab$EV3, xlab=\"eigenvector 2\", ylab=\"eigenvector 1\")\n",
    "#   plot(tab$EV6, tab$EV5, xlab=\"eigenvector 2\", ylab=\"eigenvector 1\")\n",
    "  \n",
    "write.table(tab, \"rbc.males.ex_related.EVs.txt\", row.names = FALSE, quote = FALSE)\n",
    "  # tab <- read.table(paste0(race, \".EVs.txt\"), stringsAsFactors = FALSE, header = TRUE)\n",
    "\n"
   ]
  },
  {
   "cell_type": "markdown",
   "metadata": {},
   "source": [
    "# GWAS for osmotic hemolysis in males"
   ]
  },
  {
   "cell_type": "code",
   "execution_count": null,
   "metadata": {},
   "outputs": [],
   "source": [
    "#!/bin/sh\n",
    "\n",
    "working_dir=/share/storage/REDS-III/rbc_male_osmotic\n",
    "imputation_root=/share/storage/REDS-III/RBCOmics/data/imputation/v1/imputations_all_maf0.01/\n",
    "phenotype_root=/share/storage/REDS-III/GWA_G_by_Sex/rbc_male_osmotic/phenotype\n",
    "\n",
    "method=palinear\n",
    "\n",
    "for chr in {1..23};do\n",
    "    out_file=rbc.males.1000G_p3.chr$chr.osmotic~age+race+donfreq+evs+SNP.stats\n",
    "    phenotype_file=pheno_males_osmotic.txt\n",
    "    geno_prefix=rbc.ALL.1000G_p3.chr\n",
    "\n",
    "    /share/storage/REDS-III/common/software/nextflow/nextflow-0.25.1-all \\\n",
    "        /share/storage/REDS-III/common/software/pipelines/_pipeline.association.out_stats_files.v0.1.nf \\\n",
    "            --final_chunks $imputation_root/chunks/final_chunks.chr$chr \\\n",
    "            --input_pheno $phenotype_root/$phenotype_file \\\n",
    "            --imputation_dir $imputation_root/chr$chr \\\n",
    "            --example_mldose $imputation_root/chr$chr/rbc.ALL.1000G_p3.chr$chr.1.mach.mldose.gz \\\n",
    "            --geno_prefix $geno_prefix \\\n",
    "            --working_dirs $working_dir \\\n",
    "            --out $working_dir/$out_file \\\n",
    "            --method $method \n",
    "done  \n",
    "\n"
   ]
  },
  {
   "cell_type": "markdown",
   "metadata": {},
   "source": [
    "## Generate plots"
   ]
  },
  {
   "cell_type": "code",
   "execution_count": null,
   "metadata": {},
   "outputs": [],
   "source": [
    "basedir=/share/storage/REDS-III/GWA_G_by_Sex/rbc_male_osmotic\n",
    "prefix=rbc.males.1000G_p3\n",
    "suffix=osmotic~age+race+donfreq+evs+SNP\n",
    "cd $basedir\n",
    "\n",
    "# Filter out variants with MAF <= 0.01 in study\n",
    "for inFile in ${prefix}*.stats; do\n",
    "    outFile=$basedir/final/${inFile%\".stats\"}.maf_gt_0.01\n",
    "    echo Processing $inFile\n",
    "    \n",
    "    echo \"name position A1 A2 Freq1 MAF Quality Rsq n Mean_predictor_allele beta_SNP_add sebeta_SNP_add chi2_SNP chi p or_95_percent_ci\" \\\n",
    "        > $outFile\n",
    "\n",
    "    tail -n +1 $inFile | \\\n",
    "        perl -slane 'if ($F[5] >= 0.01 && $F[7] >= 0.8) { print \"$_\"; }' \\\n",
    "        >> $outFile\n",
    "done\n"
   ]
  },
  {
   "cell_type": "code",
   "execution_count": null,
   "metadata": {},
   "outputs": [],
   "source": [
    "### START Generate plots ###\n",
    "\n",
    "outFile=$basedir/processing/${prefix}.${suffix}.maf_gt_0.01.table\n",
    "echo -e \"VARIANT_ID\\tCHR\\tPOSITION\\tP\\tTYPE\" > $outFile\n",
    "for chr in {1..23}; do\n",
    "    inFile=$basedir/final/${prefix}.chr${chr}.${suffix}.maf_gt_0.01\n",
    "    echo Processing $inFile\n",
    "    awk -v CHR=$chr 'NR>1{if (($5 eq \"A\" || $5 eq \"C\" || $5 eq \"G\" || $5 eq \"T\") && ($4 eq \"A\" || $4 eq \"C\" || $4 eq \"G\" || $4 eq \"T\")) {\n",
    "                        print $1\"\\t\"CHR\"\\t\"$2\"\\t\"$15\"\\tsnp\";\n",
    "                    } else {\n",
    "                        print $1\"\\t\"CHR\"\\t\"$2\"\\t\"$15\"\\tindel\";\n",
    "                    }}' $inFile  >> $outFile\n",
    "done\n",
    "\n",
    "\n"
   ]
  },
  {
   "cell_type": "code",
   "execution_count": null,
   "metadata": {},
   "outputs": [],
   "source": [
    "/share/storage/REDS-III/scripts/qsub_job.sh \\\n",
    "    --job_name gwas_plots \\\n",
    "    --script_prefix $basedir/processing/${prefix}.${suffix}.plot \\\n",
    "    --mem 10 \\\n",
    "    --cpu 1 \\\n",
    "    --priority 0 \\\n",
    "    --program /share/storage/REDS-III/common/software/R/generate_gwas_plots.v9.R \\\n",
    "    --in $basedir/processing/${prefix}.${suffix}.maf_gt_0.01.table \\\n",
    "    --in_chromosomes autosomal_nonPAR \\\n",
    "    --in_header \\\n",
    "    --out $basedir/final/${prefix}.${suffix}.maf_gt_0.01 \\\n",
    "    --col_id VARIANT_ID \\\n",
    "    --col_chromosome CHR \\\n",
    "    --col_position POSITION \\\n",
    "    --col_p P \\\n",
    "    --col_variant_type TYPE \\\n",
    "    --generate_snp_indel_manhattan_plot \\\n",
    "    --manhattan_odd_chr_color red \\\n",
    "    --manhattan_even_chr_color blue \\\n",
    "    --manhattan_points_cex 1.5 \\\n",
    "    --manhattan_cex_axis 2 \\\n",
    "    --manhattan_cex_lab 2 \\\n",
    "    --generate_snp_indel_qq_plot \\\n",
    "    --qq_lines \\\n",
    "    --qq_points_bg black \\\n",
    "    --qq_lambda\n",
    "\n",
    "### END Generate plots ###\n",
    "\n"
   ]
  },
  {
   "cell_type": "markdown",
   "metadata": {},
   "source": [
    "# Heritability calculation using GCTA"
   ]
  },
  {
   "cell_type": "code",
   "execution_count": null,
   "metadata": {},
   "outputs": [],
   "source": [
    "awk '{print $1\"\\t\"$1\"\\t\"$2}' \\\n",
    "    /share/storage/REDS-III/GWA_G_by_Sex/rbc_male_osmotic/phenotype/pheno_males_osmotic.txt \\\n",
    "    > pheno_males_osmotic.txt"
   ]
  },
  {
   "cell_type": "code",
   "execution_count": null,
   "metadata": {},
   "outputs": [],
   "source": [
    "# generate grm\n",
    "/share/storage/REDS-III/Heritability/gcta_1.92.2beta/gcta64 \\\n",
    "    --bfile /share/storage/REDS-III/GWA_G_by_Sex/rbc_male_osmotic/PCA/rbc.males \\\n",
    "    --make-grm --out rbc.males --thread-num 16\n"
   ]
  },
  {
   "cell_type": "code",
   "execution_count": null,
   "metadata": {},
   "outputs": [],
   "source": [
    "# calculate heritability\n",
    "/share/storage/REDS-III/Heritability/gcta_1.92.2beta/gcta64 \\\n",
    "    --reml --grm rbc.males --pheno pheno_males_osmotic.txt \\\n",
    "    --out rbc.males.osmotic.heritability --threads 16"
   ]
  },
  {
   "cell_type": "markdown",
   "metadata": {},
   "source": [
    "# Prepare summary stats for LDSC"
   ]
  },
  {
   "cell_type": "code",
   "execution_count": null,
   "metadata": {},
   "outputs": [],
   "source": [
    "cd /share/storage/REDS-III/GWA_G_by_Sex/rbc_male_osmotic/heritability\n",
    "\n",
    "echo -e \"MarkerName\\tCHR\\tPOS\\tAllele1\\tAllele2\\tEffect\\tStdErr\\tP-value\\t\" > rbc.male.osmotic~age+race+donfreq+evs+SNP.maf_gt_0.01.summaryStats.txt\n",
    "\n",
    "for chr in {1..23};do \n",
    "    awk -v CHR=$chr 'NR>1{print $1\"\\t\"CHR\"\\t\"$2\"\\t\"$3\"\\t\"$4\"\\t\"$11\"\\t\"$12\"\\t\"$15}' \\\n",
    "       /share/storage/REDS-III/GWA_G_by_Sex/rbc_male_osmotic/final/rbc.males.1000G_p3.chr${chr}.osmotic~age+race+donfreq+evs+SNP.maf_gt_0.01 \\\n",
    "      >> rbc.male.osmotic~age+race+donfreq+evs+SNP.maf_gt_0.01.summaryStats.txt\n",
    "done\n",
    "\n",
    "\n",
    "gzip rbc.male.osmotic~age+race+donfreq+evs+SNP.maf_gt_0.01.summaryStats.txt\n"
   ]
  },
  {
   "cell_type": "markdown",
   "metadata": {},
   "source": [
    "# Estimate heritability for osmotic hemolysis in males"
   ]
  },
  {
   "cell_type": "code",
   "execution_count": null,
   "metadata": {},
   "outputs": [],
   "source": [
    "sudo docker run -v /data:/data \\\n",
    "    --rm rtibiocloud/genomic_sem:v1_75a57cd Rscript /opt/GenomicSEM_commonFactor.R \\\n",
    "    --input_files /data/rbc.male.osmotic~age+race+donfreq+evs+SNP.maf_gt_0.01.summaryStats.txt.gz \\\n",
    "    --trait_names male_osmotic \\\n",
    "    --sample_sizes 6128 \\\n",
    "    --sample_prev NA \\\n",
    "    --pop_prev NA \\\n",
    "    --reference /data/reference.1000G.maf.0.005.txt \\\n",
    "    --info_filter 0.8 \\\n",
    "    --maf_filter 0.01 \\\n",
    "    --out_prefix /data/ \\\n",
    "    --ld /data/eur_w_ld_chr \\\n",
    "    --munge TRUE \\\n",
    "    --LDSC TRUE\n",
    "    \n"
   ]
  }
 ],
 "metadata": {
  "kernelspec": {
   "display_name": "Python 3",
   "language": "python",
   "name": "python3"
  },
  "language_info": {
   "codemirror_mode": {
    "name": "ipython",
    "version": 3
   },
   "file_extension": ".py",
   "mimetype": "text/x-python",
   "name": "python",
   "nbconvert_exporter": "python",
   "pygments_lexer": "ipython3",
   "version": "3.8.8"
  },
  "toc": {
   "base_numbering": 1,
   "nav_menu": {},
   "number_sections": true,
   "sideBar": true,
   "skip_h1_title": false,
   "title_cell": "Table of Contents",
   "title_sidebar": "Contents",
   "toc_cell": false,
   "toc_position": {},
   "toc_section_display": true,
   "toc_window_display": true
  }
 },
 "nbformat": 4,
 "nbformat_minor": 2
}
