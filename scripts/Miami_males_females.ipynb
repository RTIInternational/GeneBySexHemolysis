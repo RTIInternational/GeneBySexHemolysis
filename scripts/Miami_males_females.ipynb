{
 "cells": [
  {
   "cell_type": "markdown",
   "metadata": {},
   "source": [
    "# Miami plot for GWAS_osmotic_males_females"
   ]
  },
  {
   "cell_type": "code",
   "execution_count": null,
   "metadata": {},
   "outputs": [],
   "source": [
    "base_dir=/share/storage/REDS-III/GWA_G_by_Sex/Miami_plots\n",
    "cd $base_dir\n",
    "\n",
    "for pheno in osmotic; do\n",
    "    /share/storage/REDS-III/scripts/qsub_job.sh \\\n",
    "        --job_name double_Manhanttan_plot_${pheno} \\\n",
    "        --script_prefix $base_dir/double_Manhanttan_${pheno} \\\n",
    "        --cpu 1 \\\n",
    "        --mem 15 \\\n",
    "        --priority -1 \\\n",
    "        --program /share/storage/REDS-III/common/software/R/doubleManhanttanPlot.R \\\n",
    "        --up_table  /share/storage/REDS-III/GWA_G_by_Sex/rbc_cauc_males_osmotic/processing/rbc.cauc.males.1000G_p3.osmotic~age+donfreq+evs+SNP.maf_gt_0.01.table \\\n",
    "        --down_table  /share/storage/REDS-III/GWA_G_by_Sex/rbc_cauc_females_osmotic/processing/rbc.cauc.females.1000G_p3.osmotic~age+donfreq+evs+SNP.maf_gt_0.01.table \\\n",
    "        --out_plot $base_dir/rbc.${pheno}.male.female.Manhanttan.plot.png\n",
    "done\n"
   ]
  }
 ],
 "metadata": {
  "kernelspec": {
   "display_name": "Python 3",
   "language": "python",
   "name": "python3"
  },
  "language_info": {
   "codemirror_mode": {
    "name": "ipython",
    "version": 3
   },
   "file_extension": ".py",
   "mimetype": "text/x-python",
   "name": "python",
   "nbconvert_exporter": "python",
   "pygments_lexer": "ipython3",
   "version": "3.8.8"
  },
  "toc": {
   "base_numbering": 1,
   "nav_menu": {},
   "number_sections": true,
   "sideBar": true,
   "skip_h1_title": false,
   "title_cell": "Table of Contents",
   "title_sidebar": "Contents",
   "toc_cell": false,
   "toc_position": {},
   "toc_section_display": true,
   "toc_window_display": true
  }
 },
 "nbformat": 4,
 "nbformat_minor": 2
}
